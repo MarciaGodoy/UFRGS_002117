{
 "cells": [
  {
   "cell_type": "code",
   "execution_count": 5,
   "id": "1425b13a",
   "metadata": {},
   "outputs": [],
   "source": [
    "# dicionáriospint"
   ]
  },
  {
   "cell_type": "code",
   "execution_count": 2,
   "id": "60741f7a",
   "metadata": {},
   "outputs": [],
   "source": [
    "#criando um dicionário\n",
    "tabela = { \"Arroz\": 0.5, \n",
    "          \"Batata\": 0.2,  \n",
    "          \"Carne\": 0.1 }"
   ]
  },
  {
   "cell_type": "code",
   "execution_count": 4,
   "id": "b1895844",
   "metadata": {},
   "outputs": [
    {
     "name": "stdout",
     "output_type": "stream",
     "text": [
      "0.5\n"
     ]
    }
   ],
   "source": [
    "#acessando dados no dicionário\n",
    "print(tabela[\"Arroz\"])"
   ]
  },
  {
   "cell_type": "code",
   "execution_count": 7,
   "id": "785daba8",
   "metadata": {},
   "outputs": [
    {
     "name": "stdout",
     "output_type": "stream",
     "text": [
      "0.2\n"
     ]
    }
   ],
   "source": [
    "print(tabela[\"Batata\"])"
   ]
  },
  {
   "cell_type": "code",
   "execution_count": null,
   "id": "991885f0",
   "metadata": {},
   "outputs": [],
   "source": [
    "#para produzir erro\n",
    "print(tabela{\"Alface\"})\n",
    "\n"
   ]
  },
  {
   "cell_type": "code",
   "execution_count": null,
   "id": "bc4bf3e5",
   "metadata": {},
   "outputs": [],
   "source": [
    "print(tabela\"Alface\")"
   ]
  },
  {
   "cell_type": "code",
   "execution_count": 8,
   "id": "aecc7418",
   "metadata": {},
   "outputs": [
    {
     "data": {
      "text/plain": [
       "3"
      ]
     },
     "execution_count": 8,
     "metadata": {},
     "output_type": "execute_result"
    }
   ],
   "source": [
    "len(tabela)"
   ]
  },
  {
   "cell_type": "code",
   "execution_count": 9,
   "id": "94d9b633",
   "metadata": {},
   "outputs": [
    {
     "data": {
      "text/plain": [
       "['Arroz', 'Batata', 'Carne']"
      ]
     },
     "execution_count": 9,
     "metadata": {},
     "output_type": "execute_result"
    }
   ],
   "source": [
    "list(tabela)"
   ]
  },
  {
   "cell_type": "code",
   "execution_count": null,
   "id": "a6c63504",
   "metadata": {},
   "outputs": [],
   "source": []
  }
 ],
 "metadata": {
  "kernelspec": {
   "display_name": "Python 3 (ipykernel)",
   "language": "python",
   "name": "python3"
  },
  "language_info": {
   "codemirror_mode": {
    "name": "ipython",
    "version": 3
   },
   "file_extension": ".py",
   "mimetype": "text/x-python",
   "name": "python",
   "nbconvert_exporter": "python",
   "pygments_lexer": "ipython3",
   "version": "3.10.9"
  }
 },
 "nbformat": 4,
 "nbformat_minor": 5
}
