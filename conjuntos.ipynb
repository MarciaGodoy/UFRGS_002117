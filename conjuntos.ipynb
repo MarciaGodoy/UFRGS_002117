{
 "cells": [
  {
   "cell_type": "code",
   "execution_count": null,
   "id": "3299d776",
   "metadata": {},
   "outputs": [],
   "source": [
    "#Conjuntos\n"
   ]
  },
  {
   "cell_type": "code",
   "execution_count": 8,
   "id": "d6b7721b",
   "metadata": {},
   "outputs": [],
   "source": [
    "lista = [1,2,3,6,9,3,5,2]"
   ]
  },
  {
   "cell_type": "code",
   "execution_count": 9,
   "id": "09b090e4",
   "metadata": {},
   "outputs": [],
   "source": [
    "conjunto_1 = set(lista)"
   ]
  },
  {
   "cell_type": "code",
   "execution_count": 10,
   "id": "64ffda5e",
   "metadata": {},
   "outputs": [
    {
     "name": "stdout",
     "output_type": "stream",
     "text": [
      "{1, 2, 3, 5, 6, 9}\n"
     ]
    }
   ],
   "source": [
    "print(conjunto_1)"
   ]
  },
  {
   "cell_type": "code",
   "execution_count": 13,
   "id": "70952ed3",
   "metadata": {},
   "outputs": [],
   "source": [
    "conjunto_2 = {1, 3, 3, 5, 5, 0, 23, -2}"
   ]
  },
  {
   "cell_type": "code",
   "execution_count": 14,
   "id": "d716eb19",
   "metadata": {},
   "outputs": [
    {
     "name": "stdout",
     "output_type": "stream",
     "text": [
      "{0, 1, 3, 5, 23, -2}\n"
     ]
    }
   ],
   "source": [
    "print(conjunto_2)"
   ]
  },
  {
   "cell_type": "code",
   "execution_count": 15,
   "id": "f85d255f",
   "metadata": {},
   "outputs": [],
   "source": [
    "conjunto_2.add(49\n",
    "            )"
   ]
  },
  {
   "cell_type": "code",
   "execution_count": 16,
   "id": "9634236f",
   "metadata": {},
   "outputs": [
    {
     "name": "stdout",
     "output_type": "stream",
     "text": [
      "{0, 1, 49, 3, 5, 23, -2}\n"
     ]
    }
   ],
   "source": [
    "print(conjunto_2)"
   ]
  },
  {
   "cell_type": "code",
   "execution_count": 17,
   "id": "e2ff839a",
   "metadata": {},
   "outputs": [],
   "source": [
    "conjunto_1.remove(1)"
   ]
  },
  {
   "cell_type": "code",
   "execution_count": 18,
   "id": "091d43a6",
   "metadata": {},
   "outputs": [
    {
     "name": "stdout",
     "output_type": "stream",
     "text": [
      "{2, 3, 5, 6, 9}\n"
     ]
    }
   ],
   "source": [
    "print(conjunto_1)"
   ]
  },
  {
   "cell_type": "code",
   "execution_count": null,
   "id": "2f6e4ae9",
   "metadata": {},
   "outputs": [],
   "source": []
  }
 ],
 "metadata": {
  "kernelspec": {
   "display_name": "Python 3 (ipykernel)",
   "language": "python",
   "name": "python3"
  },
  "language_info": {
   "codemirror_mode": {
    "name": "ipython",
    "version": 3
   },
   "file_extension": ".py",
   "mimetype": "text/x-python",
   "name": "python",
   "nbconvert_exporter": "python",
   "pygments_lexer": "ipython3",
   "version": "3.10.9"
  }
 },
 "nbformat": 4,
 "nbformat_minor": 5
}
